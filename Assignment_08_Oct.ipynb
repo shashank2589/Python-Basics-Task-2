{
 "cells": [
  {
   "cell_type": "markdown",
   "id": "75336670",
   "metadata": {},
   "source": [
    "# Assignment_003_08_Oct"
   ]
  },
  {
   "cell_type": "raw",
   "id": "767b4e3a",
   "metadata": {},
   "source": [
    "Q.1.Count the number of times iNeuron appears in the string?\n",
    "text = \"Welcome to iNeuron, You are a part of FSDS Bootcamp 2 in iNeuron. I hope you are enjoying the course by iNeuron\""
   ]
  },
  {
   "cell_type": "code",
   "execution_count": 73,
   "id": "a226b2ba",
   "metadata": {},
   "outputs": [
    {
     "data": {
      "text/plain": [
       "3"
      ]
     },
     "execution_count": 73,
     "metadata": {},
     "output_type": "execute_result"
    }
   ],
   "source": [
    "text = \"Welcome to iNeuron, You are a part of FSDS Bootcamp 2 in iNeuron. I hope you are enjoying the course by iNeuron\"\n",
    "\n",
    "text.count(\"iNeuron\")"
   ]
  },
  {
   "cell_type": "markdown",
   "id": "a2bdb660",
   "metadata": {},
   "source": [
    "__________"
   ]
  },
  {
   "cell_type": "raw",
   "id": "bcc2b898",
   "metadata": {},
   "source": [
    "Q.2. Check if position 5 to 11 ends with the phrase iNeuron. in the string\n",
    "txt = \"Hello, welcome to FSDS 2.0 at iNeuron.\""
   ]
  },
  {
   "cell_type": "code",
   "execution_count": 74,
   "id": "b0597bfe",
   "metadata": {},
   "outputs": [
    {
     "data": {
      "text/plain": [
       "False"
      ]
     },
     "execution_count": 74,
     "metadata": {},
     "output_type": "execute_result"
    }
   ],
   "source": [
    "txt = \"Hello, welcome to FSDS 2.0 at iNeuron.\"\n",
    "txt[5:11].endswith('iNeuron.')"
   ]
  },
  {
   "cell_type": "markdown",
   "id": "b03c7c71",
   "metadata": {},
   "source": [
    "_________"
   ]
  },
  {
   "cell_type": "raw",
   "id": "a484ad77",
   "metadata": {},
   "source": [
    "Q.3.Write a program that takes your full name as input and displays the abbreviations of the first and middle names except the last name which is displayed as it is. For example, if your name is Sunny Bhaveen Chandra, then the output should be S.B.Chandra."
   ]
  },
  {
   "cell_type": "code",
   "execution_count": 1,
   "id": "b732c36d",
   "metadata": {},
   "outputs": [
    {
     "name": "stdout",
     "output_type": "stream",
     "text": [
      "Enter your name in format (firstName middleName surName): Donald John Trump\n",
      "\n",
      "Abbreviation : D.J.Trump\n"
     ]
    }
   ],
   "source": [
    "name = input(\"Enter your name in format (firstName middleName surName): \")\n",
    "\n",
    "name = name.split(' ')\n",
    "print(f\"\"\"\n",
    "Abbreviation : {name[0][0].upper()}.{name[1][0].upper()}.{name[2].capitalize()}\"\"\")"
   ]
  },
  {
   "cell_type": "markdown",
   "id": "389672b3",
   "metadata": {},
   "source": [
    "___________________________"
   ]
  },
  {
   "cell_type": "raw",
   "id": "2f1110dc",
   "metadata": {},
   "source": [
    "Q.4.Join all items in a list into a string, using a hash(#) character as separator:\n",
    "LIST = [\"My\", \"name\", \"is\", \"James\", \"Bond\"]"
   ]
  },
  {
   "cell_type": "code",
   "execution_count": 2,
   "id": "d4e6fdb5",
   "metadata": {},
   "outputs": [
    {
     "data": {
      "text/plain": [
       "'My#name#is#James#Bond'"
      ]
     },
     "execution_count": 2,
     "metadata": {},
     "output_type": "execute_result"
    }
   ],
   "source": [
    "LIST = [\"My\", \"name\", \"is\", \"James\", \"Bond\"]\n",
    "\n",
    "'#'.join(LIST)"
   ]
  },
  {
   "cell_type": "markdown",
   "id": "1ced5009",
   "metadata": {},
   "source": [
    "_________________"
   ]
  },
  {
   "cell_type": "raw",
   "id": "cf386840",
   "metadata": {},
   "source": [
    "Q.5.Write example for the following string manipulation function\n",
    "- isdecimal()\n",
    "- islower()\n",
    "- isupper()\n",
    "- isalpha()\n",
    "- isnumeric()"
   ]
  },
  {
   "cell_type": "code",
   "execution_count": 76,
   "id": "c942c212",
   "metadata": {},
   "outputs": [
    {
     "name": "stdout",
     "output_type": "stream",
     "text": [
      "Enter the data : 807\n",
      "\n",
      "Is data a Decimal? : True\n",
      "Is data a Lowercase? : False\n",
      "Is data a Uppercase? : False\n",
      "Is data a Alphabet? : False\n",
      "Is data a Numeric? : True\n"
     ]
    }
   ],
   "source": [
    "data = input(\"Enter the data : \")\n",
    "\n",
    "print(f\"\"\"\n",
    "Is data a Decimal? : {data.isdecimal()}\n",
    "Is data a Lowercase? : {data.islower()}\n",
    "Is data a Uppercase? : {data.isupper()}\n",
    "Is data a Alphabet? : {data.isalpha()}\n",
    "Is data a Numeric? : {data.isnumeric()}\"\"\")"
   ]
  },
  {
   "cell_type": "markdown",
   "id": "93e68c68",
   "metadata": {},
   "source": [
    "__________________"
   ]
  },
  {
   "cell_type": "raw",
   "id": "2fcd2fa8",
   "metadata": {},
   "source": [
    "Q.6.Indian PAN card format follows the following formats -\n",
    "\n",
    "AYEPC7894X\n",
    "ABCDE9999Y Take user input for PAN_CARD and validate as per the above example."
   ]
  },
  {
   "cell_type": "code",
   "execution_count": 83,
   "id": "6d740f3f",
   "metadata": {},
   "outputs": [
    {
     "name": "stdout",
     "output_type": "stream",
     "text": [
      "Enter Your PAN Number : asdfg3698j\n",
      "User input is correct, but not in proper format\n",
      "Autocorrect PAN No.: ASDFG3698J\n"
     ]
    }
   ],
   "source": [
    "PAN_Number = input(\"Enter Your PAN Number : \")\n",
    "\n",
    "if PAN_Number[0:5].isalpha() and PAN_Number[5:9].isdigit() and PAN_Number[9].isalpha() and len(PAN_Number) == 10 and PAN_Number.isupper():\n",
    "    print(\"User input is Correct\")\n",
    "elif PAN_Number.islower() and PAN_Number[0:5].isalpha() and PAN_Number[5:9].isdigit() and PAN_Number[9].isalpha() and len(PAN_Number) == 10:\n",
    "    print(\"User input is correct, but not in proper format\")\n",
    "    print(f\"Autocorrect PAN No.: {PAN_Number.upper()}\")\n",
    "else:\n",
    "    print(\"Invalid Input\")"
   ]
  },
  {
   "cell_type": "markdown",
   "id": "34d400f8",
   "metadata": {},
   "source": [
    "________________"
   ]
  }
 ],
 "metadata": {
  "kernelspec": {
   "display_name": "Python 3 (ipykernel)",
   "language": "python",
   "name": "python3"
  },
  "language_info": {
   "codemirror_mode": {
    "name": "ipython",
    "version": 3
   },
   "file_extension": ".py",
   "mimetype": "text/x-python",
   "name": "python",
   "nbconvert_exporter": "python",
   "pygments_lexer": "ipython3",
   "version": "3.9.12"
  }
 },
 "nbformat": 4,
 "nbformat_minor": 5
}
